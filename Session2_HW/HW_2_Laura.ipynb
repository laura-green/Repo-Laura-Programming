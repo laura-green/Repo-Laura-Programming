{
 "cells": [
  {
   "cell_type": "code",
   "execution_count": 21,
   "metadata": {
    "collapsed": false
   },
   "outputs": [],
   "source": [
    "# Origin: Homework 2 Laura.\n",
    "# Author: Laura Green\n",
    "# Title: HW_2_Laura.ipynb\n",
    "# Last modified: 2016.09.22"
   ]
  },
  {
   "cell_type": "code",
   "execution_count": 22,
   "metadata": {
    "collapsed": false
   },
   "outputs": [],
   "source": [
    "# Question 1: Re-write the above code to loop over different values of $p$."
   ]
  },
  {
   "cell_type": "code",
   "execution_count": 73,
   "metadata": {
    "collapsed": false,
    "scrolled": true
   },
   "outputs": [
    {
     "data": {
      "text/html": [
       "\"You started with 100 euros.\""
      ],
      "text/latex": [
       "\"You started with 100 euros.\""
      ],
      "text/markdown": [
       "\"You started with 100 euros.\""
      ],
      "text/plain": [
       "[1] \"You started with 100 euros.\""
      ]
     },
     "metadata": {},
     "output_type": "display_data"
    },
    {
     "name": "stdout",
     "output_type": "stream",
     "text": [
      "[1] \"Round 1.\"\n",
      "[1] \"Probability of winning = 1.\"\n",
      "[1] You win!\n",
      "[1] \"Now you've got 101 euros.\"\n",
      "[1] \"Round 2.\"\n",
      "[1] \"Probability of winning = 0.2.\"\n",
      "[1] You lose!\n",
      "[1] \"Now you've got 100 euros.\"\n",
      "[1] \"Round 3.\"\n",
      "[1] \"Probability of winning = 0.2.\"\n",
      "[1] You lose!\n",
      "[1] \"Now you've got 99 euros.\"\n",
      "[1] \"Round 4.\"\n",
      "[1] \"Probability of winning = 0.2.\"\n",
      "[1] You lose!\n",
      "[1] \"Now you've got 98 euros.\"\n",
      "[1] \"Round 5.\"\n",
      "[1] \"Probability of winning = 0.5.\"\n",
      "[1] You lose!\n",
      "[1] \"Now you've got 97 euros.\"\n",
      "[1] \"Round 6.\"\n",
      "[1] \"Probability of winning = 0.5.\"\n",
      "[1] You win!\n",
      "[1] \"Now you've got 98 euros.\"\n",
      "[1] \"Round 7.\"\n",
      "[1] \"Probability of winning = 0.5.\"\n",
      "[1] You win!\n",
      "[1] \"Now you've got 99 euros.\"\n",
      "[1] \"Round 8.\"\n",
      "[1] \"Probability of winning = 0.5.\"\n",
      "[1] You win!\n",
      "[1] \"Now you've got 100 euros.\"\n",
      "[1] \"Round 9.\"\n",
      "[1] \"Probability of winning = 0.8.\"\n",
      "[1] You win!\n",
      "[1] \"Now you've got 101 euros.\"\n",
      "[1] Was gambling really worth it?\n",
      "[1] \"Round 10.\"\n",
      "[1] \"Probability of winning = 0.8.\"\n",
      "[1] You win!\n",
      "[1] \"Now you've got 102 euros.\"\n",
      "[1] Was gambling really worth it?\n"
     ]
    }
   ],
   "source": [
    "w <- 100 # Initial wealth\n",
    "T <- 10  # Total number of loops\n",
    "x \n",
    "sprintf(\"You started with %s euros.\", w)\n",
    "\n",
    "for(T in 1:1){\n",
    "    \n",
    "    u <- runif(1)\n",
    "    p <- 1 # Probability of a win in the first loop\n",
    "    \n",
    "    print(sprintf(\"Round %s.\", T))\n",
    "    print(sprintf(\"Probability of winning = %s.\", p))\n",
    "\n",
    "    if(u <= 1 - p){\n",
    "        print(\"You lose!\", quote=FALSE)\n",
    "        w <- w - 1\n",
    "    \n",
    "    } else {\n",
    "        print(\"You win!\", quote=FALSE)\n",
    "        w <- w + 1\n",
    "    }\n",
    "    \n",
    "    print(sprintf(\"Now you've got %s euros.\", w))}\n",
    "\n",
    "for(T in 2:4){\n",
    "    \n",
    "    u <- runif(1)\n",
    "    p <- 0.2 # Probability of a win in the first loop\n",
    "    \n",
    "    print(sprintf(\"Round %s.\", T))\n",
    "    print(sprintf(\"Probability of winning = %s.\", p))\n",
    "\n",
    "    if(u <= 1 - p){\n",
    "        print(\"You lose!\", quote=FALSE)\n",
    "        w <- w - 1\n",
    "    \n",
    "    } else {\n",
    "        print(\"You win!\", quote=FALSE)\n",
    "        w <- w + 1\n",
    "    }\n",
    "    \n",
    "    print(sprintf(\"Now you've got %s euros.\", w))}\n",
    "\n",
    "for(T in 5:8){\n",
    "    \n",
    "    u <- runif(1)\n",
    "    p <- 0.5 # Probability of a win in the second loop\n",
    "    \n",
    "    print(sprintf(\"Round %s.\", T))\n",
    "    print(sprintf(\"Probability of winning = %s.\", p))\n",
    "    \n",
    "    if(u <= 1 - p){\n",
    "        print(\"You lose!\", quote=FALSE)\n",
    "        w <- w - 1\n",
    "    \n",
    "    } else {\n",
    "        print(\"You win!\", quote=FALSE)\n",
    "        w <- w + 1\n",
    "    }\n",
    "    \n",
    "    print(sprintf(\"Now you've got %s euros.\", w))}\n",
    "\n",
    "for(T in 9:10){\n",
    "    \n",
    "    u <- runif(1)\n",
    "    p <- 0.8 # Probability of a win in the third loop\n",
    "    \n",
    "    print(sprintf(\"Round %s.\", T))\n",
    "    print(sprintf(\"Probability of winning = %s.\", p))\n",
    "   \n",
    "    if(u <= 1 - p){\n",
    "        print(\"You lose!\", quote=FALSE)\n",
    "        w <- w - 1\n",
    "    } else {\n",
    "        print(\"You win!\", quote=FALSE)\n",
    "        w <- w + 1\n",
    "    }\n",
    "    \n",
    "    print(sprintf(\"Now you've got %s euros.\", w))\n",
    "    print(\"Was gambling really worth it?\", quote=FALSE)}"
   ]
  },
  {
   "cell_type": "code",
   "execution_count": null,
   "metadata": {
    "collapsed": false
   },
   "outputs": [],
   "source": [
    "# Question 2: Re-write the code to use different values of $p$, but the same random shocks each period."
   ]
  },
  {
   "cell_type": "code",
   "execution_count": 78,
   "metadata": {
    "collapsed": false
   },
   "outputs": [
    {
     "data": {
      "text/html": [
       "\"You started with 100 euros.\""
      ],
      "text/latex": [
       "\"You started with 100 euros.\""
      ],
      "text/markdown": [
       "\"You started with 100 euros.\""
      ],
      "text/plain": [
       "[1] \"You started with 100 euros.\""
      ]
     },
     "metadata": {},
     "output_type": "display_data"
    },
    {
     "name": "stdout",
     "output_type": "stream",
     "text": [
      "[1] \"Round 1.\"\n",
      "[1] \"Probability of winning = 1.\"\n",
      "[1] You win!\n",
      "[1] \"Now you've got 101 euros.\"\n",
      "[1] \"Round 2.\"\n",
      "[1] \"Probability of winning = 0.2.\"\n",
      "[1] You win!\n",
      "[1] \"Now you've got 102 euros.\"\n",
      "[1] \"Round 3.\"\n",
      "[1] \"Probability of winning = 0.2.\"\n",
      "[1] You win!\n",
      "[1] \"Now you've got 103 euros.\"\n",
      "[1] \"Round 4.\"\n",
      "[1] \"Probability of winning = 0.2.\"\n",
      "[1] You win!\n",
      "[1] \"Now you've got 104 euros.\"\n",
      "[1] \"Round 5.\"\n",
      "[1] \"Probability of winning = 0.5.\"\n",
      "[1] You win!\n",
      "[1] \"Now you've got 105 euros.\"\n",
      "[1] \"Round 6.\"\n",
      "[1] \"Probability of winning = 0.5.\"\n",
      "[1] You win!\n",
      "[1] \"Now you've got 106 euros.\"\n",
      "[1] \"Round 7.\"\n",
      "[1] \"Probability of winning = 0.5.\"\n",
      "[1] You win!\n",
      "[1] \"Now you've got 107 euros.\"\n",
      "[1] \"Round 8.\"\n",
      "[1] \"Probability of winning = 0.5.\"\n",
      "[1] You win!\n",
      "[1] \"Now you've got 108 euros.\"\n",
      "[1] \"Round 9.\"\n",
      "[1] \"Probability of winning = 0.8.\"\n",
      "[1] You win!\n",
      "[1] \"Now you've got 109 euros.\"\n",
      "[1] \"Round 10.\"\n",
      "[1] \"Probability of winning = 0.8.\"\n",
      "[1] You win!\n",
      "[1] \"Now you've got 110 euros.\"\n",
      "[1] I guess gambling WAS worth it!!\n"
     ]
    }
   ],
   "source": [
    "w <- 100 # Initial wealth\n",
    "T <- 10  # Total number of loops\n",
    "\n",
    "sprintf(\"You started with %s euros.\", w)\n",
    "\n",
    "for(T in 1:1){\n",
    "    \n",
    "    u <- 0.9\n",
    "    p <- 1 # Probability of a win in the first loop\n",
    "    \n",
    "    print(sprintf(\"Round %s.\", T))\n",
    "    print(sprintf(\"Probability of winning = %s.\", p))\n",
    "\n",
    "    if(u <= 1 - p){\n",
    "        print(\"You lose!\", quote=FALSE)\n",
    "        w <- w - 1\n",
    "    \n",
    "    } else {\n",
    "        print(\"You win!\", quote=FALSE)\n",
    "        w <- w + 1\n",
    "    }\n",
    "    \n",
    "    print(sprintf(\"Now you've got %s euros.\", w))}\n",
    "\n",
    "for(T in 2:4){\n",
    "    \n",
    "    u <- 0.9\n",
    "    p <- 0.2 # Probability of a win in the first loop\n",
    "    \n",
    "    print(sprintf(\"Round %s.\", T))\n",
    "    print(sprintf(\"Probability of winning = %s.\", p))\n",
    "\n",
    "    if(u <= 1 - p){\n",
    "        print(\"You lose!\", quote=FALSE)\n",
    "        w <- w - 1\n",
    "    \n",
    "    } else {\n",
    "        print(\"You win!\", quote=FALSE)\n",
    "        w <- w + 1\n",
    "    }\n",
    "    \n",
    "    print(sprintf(\"Now you've got %s euros.\", w))}\n",
    "\n",
    "for(T in 5:8){\n",
    "    \n",
    "    u <- 0.9\n",
    "    p <- 0.5 # Probability of a win in the second loop\n",
    "    \n",
    "    print(sprintf(\"Round %s.\", T))\n",
    "    print(sprintf(\"Probability of winning = %s.\", p))\n",
    "    \n",
    "    if(u <= 1 - p){\n",
    "        print(\"You lose!\", quote=FALSE)\n",
    "        w <- w - 1\n",
    "    \n",
    "    } else {\n",
    "        print(\"You win!\", quote=FALSE)\n",
    "        w <- w + 1\n",
    "    }\n",
    "    \n",
    "    print(sprintf(\"Now you've got %s euros.\", w))}\n",
    "\n",
    "for(T in 9:10){\n",
    "    \n",
    "    u <- 0.9\n",
    "    p <- 0.8 # Probability of a win in the third loop\n",
    "    \n",
    "    print(sprintf(\"Round %s.\", T))\n",
    "    print(sprintf(\"Probability of winning = %s.\", p))\n",
    "   \n",
    "    if(u <= 1 - p){\n",
    "        print(\"You lose!\", quote=FALSE)\n",
    "        w <- w - 1\n",
    "    } else {\n",
    "        print(\"You win!\", quote=FALSE)\n",
    "        w <- w + 1\n",
    "    }\n",
    "    \n",
    "    print(sprintf(\"Now you've got %s euros.\", w))}\n",
    "\n",
    "print(\"I guess gambling WAS worth it!!\", quote=FALSE)"
   ]
  },
  {
   "cell_type": "code",
   "execution_count": 71,
   "metadata": {
    "collapsed": true
   },
   "outputs": [],
   "source": [
    "# Question 3: Plot all the different paths for numbers 1 and 2 together on two plots."
   ]
  },
  {
   "cell_type": "code",
   "execution_count": 72,
   "metadata": {
    "collapsed": true
   },
   "outputs": [],
   "source": []
  },
  {
   "cell_type": "code",
   "execution_count": 79,
   "metadata": {
    "collapsed": true
   },
   "outputs": [],
   "source": [
    "# Question 4: Re-write the above code to simulate many realizations of the terminal wealth for a single value of $p$ \n",
    "# and take the average $\\frac{1}{M} \\sum_m w_m(T)$ where $M$ is the number of simulations."
   ]
  },
  {
   "cell_type": "code",
   "execution_count": 128,
   "metadata": {
    "collapsed": false
   },
   "outputs": [
    {
     "data": {
      "image/png": "[encoded data removed]",
      "text/plain": [
       "plot without title"
      ]
     },
     "metadata": {
      "image/svg+xml": {
       "isolated": true
      }
     },
     "output_type": "display_data"
    }
   ],
   "source": [
    "w0 <- 100 # Initial wealth\n",
    "p <- 0.5 # Probability of a win\n",
    "T <- 10  # Terminal time\n",
    "\n",
    "# Create empty objects to fill\n",
    "w <- rep(0, T+1)\n",
    "x <- rep(0, T)\n",
    "\n",
    "# Fill initial wealth\n",
    "w[1] = w0\n",
    "\n",
    "for(t in 1:T){\n",
    "    # A random draw\n",
    "    u <- runif(1)\n",
    "    if(u <= 1 - p){\n",
    "        x[t] <- 0\n",
    "        w[t+1] <- w[t] - 1\n",
    "    } else {\n",
    "        x[t] <- 1\n",
    "        w[t+1] <- w[t] + 1\n",
    "    }\n",
    "}\n",
    "time = 0:T\n",
    "plot(time, w, type='l')"
   ]
  },
  {
   "cell_type": "code",
   "execution_count": null,
   "metadata": {
    "collapsed": true
   },
   "outputs": [],
   "source": []
  },
  {
   "cell_type": "code",
   "execution_count": null,
   "metadata": {
    "collapsed": true
   },
   "outputs": [],
   "source": []
  },
  {
   "cell_type": "code",
   "execution_count": null,
   "metadata": {
    "collapsed": true
   },
   "outputs": [],
   "source": []
  },
  {
   "cell_type": "code",
   "execution_count": null,
   "metadata": {
    "collapsed": true
   },
   "outputs": [],
   "source": []
  }
 ],
 "metadata": {
  "kernelspec": {
   "display_name": "R",
   "language": "R",
   "name": "ir"
  },
  "language_info": {
   "codemirror_mode": "r",
   "file_extension": ".r",
   "mimetype": "text/x-r-source",
   "name": "R",
   "pygments_lexer": "r",
   "version": "3.3.1"
  }
 },
 "nbformat": 4,
 "nbformat_minor": 0
}
