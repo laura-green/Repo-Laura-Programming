{
 "cells": [
  {
   "cell_type": "code",
   "execution_count": 1,
   "metadata": {
    "collapsed": false
   },
   "outputs": [
    {
     "name": "stdout",
     "output_type": "stream",
     "text": [
      "[1] Hello world!\n"
     ]
    }
   ],
   "source": [
    "# Origin: Hello World\n",
    "# Filename: hello.R\n",
    "# Author: Laura Green\n",
    "# Last modified: 14 September, 2016\n",
    "# This is a basic function to learn about programming in R. \n",
    "# It prints \"Hello world!\".\n",
    "print (\"Hello world!\", quote=FALSE)"
   ]
  }
 ],
 "metadata": {
  "kernelspec": {
   "display_name": "R",
   "language": "R",
   "name": "ir"
  },
  "language_info": {
   "codemirror_mode": "r",
   "file_extension": ".r",
   "mimetype": "text/x-r-source",
   "name": "R",
   "pygments_lexer": "r",
   "version": "3.3.1"
  }
 },
 "nbformat": 4,
 "nbformat_minor": 0
}
